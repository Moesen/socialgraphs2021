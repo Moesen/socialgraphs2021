{
 "cells": [
  {
   "cell_type": "code",
   "execution_count": 7,
   "metadata": {},
   "outputs": [],
   "source": [
    "import nltk\r\n",
    "import pandas as pd\r\n",
    "import numpy as np\r\n",
    "import requests"
   ]
  },
  {
   "cell_type": "code",
   "execution_count": 13,
   "metadata": {},
   "outputs": [],
   "source": [
    "path = \"../../files\\ZeldaBotW_nodes_w_attributes_enriched.csv\"\r\n",
    "characters_df = pd.read_csv(path)"
   ]
  },
  {
   "cell_type": "code",
   "execution_count": 20,
   "metadata": {},
   "outputs": [
    {
     "name": "stdout",
     "output_type": "stream",
     "text": [
      "{'batchcomplete': '', 'warnings': {'extracts': {'*': 'HTML may be malformed and/or unbalanced and may omit inline images. Use at your own risk. Known problems are listed at https://www.mediawiki.org/wiki/Extension:TextExtracts#Caveats.'}}, 'query': {'pageids': ['110712'], 'pages': {'110712': {'pageid': 110712, 'ns': 0, 'title': 'Baddek', 'extract': '<p><b>Baddek</b> is a character in <i>Breath of the Wild</i>.\\n</p>\\n\\n\\n<h2><span id=\"Biography\">Biography</span></h2>\\n<p>Baddek is a Hylian who rides a <span>Horse</span>, carrying a Wooden Shield and Traveler\\'s Sword. He travels along the road from Serenne Stable all the way to Tabantha Bridge Stable and back. Once he reaches a Stable, he\\'ll rest nearby with his Horse for a moment before leaving again.\\n</p><p>When spoken to, Baddek will reveal that he has a great appreciation for Horses, claiming he sees the world through \"horse-tinted glasses\". He also tells Link that he only talks about Horses. While he has difficulties speaking with others, he finds that Horses love him. Due to how much he talks about Horses, his wife left him for one. He doesn\\'t mind, though, as it gives him more time to talk about Horses.\\n</p><p>To Baddek, taming wild Horses is like adopting a new family member that you can sit on. He says that registered Horse companions will always be by your side, until they die. Baddek\\'s Horse is the one thing he can\\'t travel without. As long as he has his Horse, Baddek says he doesn\\'t need anything else, and he believes the Horse is more important than he is. In addition, he states that his Horse\\'s saddle fits both him and the Horse perfectly. The Horse\\'s bridle is also easy to grasp and elastic.\\n</p><p>Occasionally, Baddek will give Link tips for handling Horses, saying to pet them when they follow directions and work hard, as praising them reinforces good behavior. In addition, he tells Link that he can\\'t expect a horse to ride hard for him without a meaningful connection, and that he should spend time with his Horse to form a bond. He also recite Horse facts, stating that Horses can swim if they need to. After this, he\\'ll ask Link to name another animal that swims, but says it\\'s a trick question as there aren\\'t any. He also informs Link that Stables fit registered Horses with saddles and bridles.\\n</p><p>One type of Horse Baddek likes the most is the White Horse, claiming he\\'s heard of a special Horse in the Sanidin Park Ruins fit for a king. While girls dream about princes on White Horses, Baddek only cares about the White Horse. Though Horses come in many colors, White Horses take his breath away.\\n</p><p>Baddek has also ridden a Stalhorse in the Hebra Mountains. Since he could never be afraid of a Horse, Baddek claims he wasn\\'t scared of it. He describes the Stalhorse as running well and being surprisingly comfortable.\\n</p><p>Baddek tells Link that there are four different Stables that have different Bridle and Saddle styles, these being Woodland Stable, Highland Stable, Outskirt Stable, and South Akkala Stable. This, however, is false, and these are simply the Stables where Link can have a worker change the gear of his Horses.\\n</p><p>When it\\'s raining, Baddek will seek shelter for himself and his horse, commenting that it\\'s raining \"like stallions and mares\". During this time, he\\'ll give Link a quiz on Horses. He lists four different types of Horses—the White Horse, the Giant Horse, the mechanical horse, and the bone Horse—and asks Link which one doesn\\'t exist. He says that the answer will be revealed someday, somewhere, and that Link may already know it. Occasionally, Baddek will make dismissive comments about the existence of mechanical horses.\\n</p><p>Despite his addiction to Horses, he also wonders about Paragliders and Carrots.\\n</p>\\n<h2><span id=\"Nomenclature\">Nomenclature</span></h2>\\n\\n<h2><span id=\"See_Also\">See Also</span></h2>\\n<ul><li>Nazbi</li>\\n<li>Savelle</li>\\n<li>Yammo</li>\\n<li>Serenne Stable</li>\\n<li>Breach of Demise</li>\\n<li>Tabantha Bridge Stable</li></ul>\\n<h2><span id=\"References\">References</span></h2>'}}}}\n"
     ]
    }
   ],
   "source": [
    "# Downloading all txts\r\n",
    "baseurl = \" https://zelda.fandom.com/api.php?\"\r\n",
    "params = {\r\n",
    "    \"action\": \"query\",\r\n",
    "    \"format\": \"json\",\r\n",
    "    \"prop\": \"extracts\",\r\n",
    "    \"exlimit\": 1,\r\n",
    "    \"indexpageids\": True,\r\n",
    "    }\r\n",
    "\r\n",
    "txt_folder = \"./txts\"\r\n",
    "def download_txt(row):\r\n",
    "    new_params = params\r\n",
    "    name = row.Name\r\n",
    "    new_params[\"titles\"] = name\r\n",
    "\r\n",
    "    url = baseurl + \"&\".join([f\"{x}={y}\" for x,y in params.items()])\r\n",
    "\r\n",
    "    data = requests.get(url).json()\r\n",
    "    print(data)\r\n",
    "\r\n",
    "    # with open(f\"{txt_folder}/{name}.txt\", \"w\") as f:\r\n",
    "    #     f.write(str(text.encode(encoding=\"utf-8\", errors=\"xmlcharrefreplace\")))\r\n",
    "\r\n",
    "download_txt(characters_df.iloc[0])\r\n",
    "\r\n",
    "\r\n",
    "# download = True\r\n",
    "# if download: characters_df.apply(download_txt, axis=1)"
   ]
  }
 ],
 "metadata": {
  "interpreter": {
   "hash": "c8199bc9c93b4262823634d25f4a32e04dd527ed93790c91211f95e4ad523798"
  },
  "kernelspec": {
   "display_name": "Python 3.9.1 64-bit ('venv': venv)",
   "name": "python3"
  },
  "language_info": {
   "name": "python",
   "version": ""
  },
  "orig_nbformat": 4
 },
 "nbformat": 4,
 "nbformat_minor": 2
}