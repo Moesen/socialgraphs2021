{
 "cells": [
  {
   "cell_type": "code",
   "execution_count": 2,
   "metadata": {},
   "outputs": [],
   "source": [
    "import nltk\r\n",
    "import pandas as pd\r\n",
    "import numpy as np\r\n",
    "import requests"
   ]
  },
  {
   "cell_type": "code",
   "execution_count": 13,
   "metadata": {},
   "outputs": [],
   "source": [
    "path = \"../../files\\ZeldaBotW_nodes_w_attributes_enriched.csv\"\r\n",
    "characters_df = pd.read_csv(path)"
   ]
  },
  {
   "cell_type": "code",
   "execution_count": 1,
   "metadata": {},
   "outputs": [
    {
     "ename": "NameError",
     "evalue": "name 'characters_df' is not defined",
     "output_type": "error",
     "traceback": [
      "\u001b[1;31m---------------------------------------------------------------------------\u001b[0m",
      "\u001b[1;31mNameError\u001b[0m                                 Traceback (most recent call last)",
      "\u001b[1;32m~\\AppData\\Local\\Temp/ipykernel_26656/3600646068.py\u001b[0m in \u001b[0;36m<module>\u001b[1;34m\u001b[0m\n\u001b[0;32m     23\u001b[0m     \u001b[1;31m#     f.write(str(text.encode(encoding=\"utf-8\", errors=\"xmlcharrefreplace\")))\u001b[0m\u001b[1;33m\u001b[0m\u001b[1;33m\u001b[0m\u001b[1;33m\u001b[0m\u001b[0m\n\u001b[0;32m     24\u001b[0m \u001b[1;33m\u001b[0m\u001b[0m\n\u001b[1;32m---> 25\u001b[1;33m \u001b[0mdownload_txt\u001b[0m\u001b[1;33m(\u001b[0m\u001b[0mcharacters_df\u001b[0m\u001b[1;33m.\u001b[0m\u001b[0miloc\u001b[0m\u001b[1;33m[\u001b[0m\u001b[1;36m0\u001b[0m\u001b[1;33m]\u001b[0m\u001b[1;33m)\u001b[0m\u001b[1;33m\u001b[0m\u001b[1;33m\u001b[0m\u001b[0m\n\u001b[0m\u001b[0;32m     26\u001b[0m \u001b[1;33m\u001b[0m\u001b[0m\n\u001b[0;32m     27\u001b[0m \u001b[1;33m\u001b[0m\u001b[0m\n",
      "\u001b[1;31mNameError\u001b[0m: name 'characters_df' is not defined"
     ]
    }
   ],
   "source": [
    "# Downloading all txts\r\n",
    "baseurl = \" https://zelda.fandom.com/api.php?\"\r\n",
    "params = {\r\n",
    "    \"action\": \"query\",\r\n",
    "    \"format\": \"json\",\r\n",
    "    \"prop\": \"extracts\",\r\n",
    "    \"exlimit\": 1,\r\n",
    "    \"indexpageids\": True,\r\n",
    "    }\r\n",
    "\r\n",
    "txt_folder = \"./txts\"\r\n",
    "def download_txt(row):\r\n",
    "    new_params = params\r\n",
    "    name = row.Name\r\n",
    "    new_params[\"titles\"] = name\r\n",
    "\r\n",
    "    url = baseurl + \"&\".join([f\"{x}={y}\" for x,y in params.items()])\r\n",
    "\r\n",
    "    data = requests.get(url).json()\r\n",
    "    print(data)\r\n",
    "\r\n",
    "    # with open(f\"{txt_folder}/{name}.txt\", \"w\") as f:\r\n",
    "    #     f.write(str(text.encode(encoding=\"utf-8\", errors=\"xmlcharrefreplace\")))\r\n",
    "\r\n",
    "download_txt(characters_df.iloc[0])\r\n",
    "\r\n",
    "\r\n",
    "# download = True\r\n",
    "# if download: characters_df.apply(download_txt, axis=1)"
   ]
  }
 ],
 "metadata": {
  "interpreter": {
   "hash": "c8199bc9c93b4262823634d25f4a32e04dd527ed93790c91211f95e4ad523798"
  },
  "kernelspec": {
   "display_name": "Python 3.9.1 64-bit ('venv': venv)",
   "name": "python3"
  },
  "language_info": {
   "codemirror_mode": {
    "name": "ipython",
    "version": 3
   },
   "file_extension": ".py",
   "mimetype": "text/x-python",
   "name": "python",
   "nbconvert_exporter": "python",
   "pygments_lexer": "ipython3",
   "version": "3.9.1"
  },
  "orig_nbformat": 4
 },
 "nbformat": 4,
 "nbformat_minor": 2
}