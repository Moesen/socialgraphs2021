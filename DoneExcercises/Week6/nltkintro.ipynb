{
 "cells": [
  {
   "cell_type": "code",
   "execution_count": 2,
   "metadata": {},
   "outputs": [],
   "source": [
    "import nltk"
   ]
  },
  {
   "cell_type": "code",
   "execution_count": 3,
   "metadata": {},
   "outputs": [],
   "source": [
    "#nltk.download(\"book\")"
   ]
  },
  {
   "cell_type": "code",
   "execution_count": 4,
   "metadata": {},
   "outputs": [
    {
     "name": "stdout",
     "output_type": "stream",
     "text": [
      "*** Introductory Examples for the NLTK Book ***\n",
      "Loading text1, ..., text9 and sent1, ..., sent9\n",
      "Type the name of the text or sentence to view it.\n",
      "Type: 'texts()' or 'sents()' to list the materials.\n",
      "text1: Moby Dick by Herman Melville 1851\n",
      "text2: Sense and Sensibility by Jane Austen 1811\n",
      "text3: The Book of Genesis\n",
      "text4: Inaugural Address Corpus\n",
      "text5: Chat Corpus\n",
      "text6: Monty Python and the Holy Grail\n",
      "text7: Wall Street Journal\n",
      "text8: Personals Corpus\n",
      "text9: The Man Who Was Thursday by G . K . Chesterton 1908\n"
     ]
    }
   ],
   "source": [
    "import nltk.book as book\r\n"
   ]
  },
  {
   "cell_type": "code",
   "execution_count": 15,
   "metadata": {},
   "outputs": [
    {
     "name": "stdout",
     "output_type": "stream",
     "text": [
      "Displaying 25 of 84 matches:\n",
      ": Man ! ARTHUR : Man . Sorry . What knight live in that castle over there ? DE\n",
      "rthur music ] [ music stops ] BLACK KNIGHT : Aaagh ! [ King Arthur music ] [ m\n",
      "rthur music ] [ music stops ] BLACK KNIGHT : Aaagh ! GREEN KNIGHT : Ooh ! [ Ki\n",
      "tops ] BLACK KNIGHT : Aaagh ! GREEN KNIGHT : Ooh ! [ King Arthur music ] [ mus\n",
      "ic ] [ music stops ] [ stab ] BLACK KNIGHT : Aagh ! GREEN KNIGHT : Oh ! [ King\n",
      " stab ] BLACK KNIGHT : Aagh ! GREEN KNIGHT : Oh ! [ King Arthur music ] Ooh ! \n",
      "music ] Ooh ! [ music stops ] BLACK KNIGHT : Aaagh ! [ clang ] BLACK KNIGHT an\n",
      "CK KNIGHT : Aaagh ! [ clang ] BLACK KNIGHT and GREEN KNIGHT : Agh !, oh !, etc\n",
      " ! [ clang ] BLACK KNIGHT and GREEN KNIGHT : Agh !, oh !, etc . GREEN KNIGHT :\n",
      "N KNIGHT : Agh !, oh !, etc . GREEN KNIGHT : Aaaaaah ! Aaaaaaaaah ! [ woosh ] \n",
      "ah ! Aaaaaaaaah ! [ woosh ] [ BLACK KNIGHT kills GREEN KNIGHT ] [ thud ] [ scr\n",
      " woosh ] [ BLACK KNIGHT kills GREEN KNIGHT ] [ thud ] [ scrape ] BLACK KNIGHT \n",
      " KNIGHT ] [ thud ] [ scrape ] BLACK KNIGHT : Umm ! [ clop clop clop ] ARTHUR :\n",
      "with the strength of many men , Sir Knight . [ pause ] I am Arthur , King of t\n",
      "d . So be it . Come , Patsy . BLACK KNIGHT : None shall pass . ARTHUR : What ?\n",
      " shall pass . ARTHUR : What ? BLACK KNIGHT : None shall pass . ARTHUR : I have\n",
      "have no quarrel with you , good Sir Knight , but I must cross this bridge . BL\n",
      "ut I must cross this bridge . BLACK KNIGHT : Then you shall die . ARTHUR : I c\n",
      "he Britons , to stand aside ! BLACK KNIGHT : I move for no man . ARTHUR : So b\n",
      "RTHUR : So be it ! ARTHUR and BLACK KNIGHT : Aaah !, hiyaah !, etc . [ ARTHUR \n",
      "h !, etc . [ ARTHUR chops the BLACK KNIGHT ' s left arm off ] ARTHUR : Now sta\n",
      "nd aside , worthy adversary . BLACK KNIGHT : ' Tis but a scratch . ARTHUR : A \n",
      " scratch ? Your arm ' s off ! BLACK KNIGHT : No , it isn ' t . ARTHUR : Well ,\n",
      ": Well , what ' s that then ? BLACK KNIGHT : I ' ve had worse . ARTHUR : You l\n",
      "d worse . ARTHUR : You liar ! BLACK KNIGHT : Come on , you pansy ! [ clang ] H\n"
     ]
    }
   ],
   "source": [
    "# Searching text\r\n",
    "\r\n",
    "# Shows word and context\r\n",
    "book.text6.concordance(\"knight\")"
   ]
  },
  {
   "cell_type": "code",
   "execution_count": 21,
   "metadata": {},
   "outputs": [
    {
     "name": "stdout",
     "output_type": "stream",
     "text": [
      "and so well question oh strand couple sort system shall launcelot task\n",
      "way string glass cry feint\n"
     ]
    }
   ],
   "source": [
    "# Similiarty\r\n",
    "book.text6.similar(\"knight\")"
   ]
  },
  {
   "cell_type": "code",
   "execution_count": 23,
   "metadata": {},
   "outputs": [
    {
     "data": {
      "text/plain": [
       "[(':', 1197),\n",
       " ('.', 816),\n",
       " ('!', 801),\n",
       " (',', 731),\n",
       " (\"'\", 421),\n",
       " ('[', 319),\n",
       " (']', 312),\n",
       " ('the', 299),\n",
       " ('I', 255),\n",
       " ('ARTHUR', 225),\n",
       " ('?', 207),\n",
       " ('you', 204),\n",
       " ('a', 188),\n",
       " ('of', 158),\n",
       " ('--', 148),\n",
       " ('to', 144),\n",
       " ('s', 141),\n",
       " ('and', 135),\n",
       " ('#', 127),\n",
       " ('...', 118),\n",
       " ('Oh', 110),\n",
       " ('it', 107),\n",
       " ('is', 106),\n",
       " ('-', 88),\n",
       " ('in', 86),\n",
       " ('that', 84),\n",
       " ('t', 77),\n",
       " ('1', 76),\n",
       " ('No', 76),\n",
       " ('LAUNCELOT', 76),\n",
       " ('your', 75),\n",
       " ('not', 70),\n",
       " ('GALAHAD', 69),\n",
       " ('KNIGHT', 68),\n",
       " ('What', 65),\n",
       " ('FATHER', 63),\n",
       " ('we', 62),\n",
       " ('You', 61),\n",
       " ('BEDEVERE', 61),\n",
       " ('We', 60),\n",
       " ('this', 59),\n",
       " ('no', 55),\n",
       " ('Well', 54),\n",
       " ('HEAD', 54),\n",
       " ('have', 53),\n",
       " ('GUARD', 53),\n",
       " ('are', 52),\n",
       " ('Sir', 52),\n",
       " ('A', 50),\n",
       " ('And', 50)]"
      ]
     },
     "execution_count": 23,
     "metadata": {},
     "output_type": "execute_result"
    }
   ],
   "source": [
    "# Frequency Distributions\r\n",
    "from nltk.probability import FreqDist\r\n",
    "fdist6 = FreqDist(book.text6)\r\n",
    "\r\n",
    "fdist6.most_common(50)"
   ]
  }
 ],
 "metadata": {
  "interpreter": {
   "hash": "c8199bc9c93b4262823634d25f4a32e04dd527ed93790c91211f95e4ad523798"
  },
  "kernelspec": {
   "display_name": "Python 3.9.1 64-bit ('venv': venv)",
   "name": "python3"
  },
  "language_info": {
   "codemirror_mode": {
    "name": "ipython",
    "version": 3
   },
   "file_extension": ".py",
   "mimetype": "text/x-python",
   "name": "python",
   "nbconvert_exporter": "python",
   "pygments_lexer": "ipython3",
   "version": "3.9.1"
  },
  "orig_nbformat": 4
 },
 "nbformat": 4,
 "nbformat_minor": 2
}