{
 "cells": [
  {
   "cell_type": "code",
   "execution_count": 135,
   "metadata": {},
   "outputs": [],
   "source": [
    "import pandas as pd\r\n",
    "import requests\r\n",
    "import re\r\n",
    "from tqdm import tqdm\r\n",
    "import sys"
   ]
  },
  {
   "cell_type": "code",
   "execution_count": 62,
   "metadata": {},
   "outputs": [],
   "source": [
    "def create_url(baseurl, params):\r\n",
    "    return baseurl + \"&\".join([f\"{x}={y}\" for x, y in params.items()])"
   ]
  },
  {
   "cell_type": "code",
   "execution_count": 96,
   "metadata": {},
   "outputs": [],
   "source": [
    "expr = re.compile(r\"\\{\\{Term\\|BotW\\|((\\w* ?)+)\\|link\\|?\\}\\}\")"
   ]
  },
  {
   "cell_type": "code",
   "execution_count": 84,
   "metadata": {},
   "outputs": [],
   "source": [
    "baseurl = \" https://zelda.fandom.com/api.php?\"\r\n",
    "params = {\r\n",
    "    \"action\": \"query\",\r\n",
    "    \"format\": \"json\",\r\n",
    "    \"prop\": \"revisions\",\r\n",
    "    \"rvslots\": \"*\",\r\n",
    "    \"rvprop\": \"content\",\r\n",
    "    \"indexpageids\": True\r\n",
    "    }\r\n",
    "titles = [\r\n",
    "    \"Characters_in_Breath_of_the_Wild\", \r\n",
    "    \"Enemies_in_Breath_of_the_Wild\", \r\n",
    "    \"Bosses_in_Breath_of_the_Wild\"\r\n",
    "    ]"
   ]
  },
  {
   "cell_type": "code",
   "execution_count": 112,
   "metadata": {},
   "outputs": [],
   "source": [
    "# Extracting all links of format {{Term|BoTW|(here)|link}}\r\n",
    "\r\n",
    "extraction = []\r\n",
    "for title in titles:\r\n",
    "    new_params = params\r\n",
    "    new_params[\"titles\"] = title\r\n",
    "    url = create_url(baseurl, new_params)\r\n",
    "    \r\n",
    "    data = requests.get(url).json()\r\n",
    "    pid = data[\"query\"][\"pageids\"][0]\r\n",
    "    text = data[\"query\"][\"pages\"][pid][\"revisions\"][0][\"slots\"][\"main\"][\"*\"]\r\n",
    "    \r\n",
    "    if \"==Traps==\" in text:\r\n",
    "        text = text.split(\"==Traps==\")[0]\r\n",
    "\r\n",
    "    extraction.extend([x[0] for x in expr.findall(text)])"
   ]
  },
  {
   "cell_type": "code",
   "execution_count": 140,
   "metadata": {},
   "outputs": [
    {
     "name": "stderr",
     "output_type": "stream",
     "text": [
      "100%|██████████| 657/657 [02:48<00:00,  3.91it/s]\n"
     ]
    }
   ],
   "source": [
    "# Sorting the extractions after whether they are traps, places, or characters.\r\n",
    "# First two gets removed\r\n",
    "\r\n",
    "Chars = []\r\n",
    "\r\n",
    "for e in tqdm(extraction):\r\n",
    "    new_params = params\r\n",
    "    new_params[\"titles\"] = e + \"%23Breath_of_the_Wild\"\r\n",
    "    url = create_url(baseurl, new_params)\r\n",
    "\r\n",
    "    data = requests.get(url).json()\r\n",
    "    pid = data[\"query\"][\"pageids\"][0]\r\n",
    "    text = data[\"query\"][\"pages\"][pid][\"revisions\"][0][\"slots\"][\"main\"][\"*\"]\r\n",
    "    \r\n",
    "    if \"Infobox Place\" in text:\r\n",
    "        continue\r\n",
    "    \r\n",
    "    with open(f\"txts/{e}.txt\", \"w\") as f:\r\n",
    "        f.write(str(text.encode(encoding=\"utf-8\", errors=\"xmlcharrefreplace\")))\r\n",
    "        \r\n",
    "    if \"Infobox Boss\" in text:\r\n",
    "        Chars.append([e, \"Boss\"])\r\n",
    "    elif \"Infobox Character\" in text:\r\n",
    "        Chars.append([e, \"Ally\"])\r\n",
    "    elif \"Infobox Enemy\" in text:\r\n",
    "        Chars.append([e, \"Enemey\"])\r\n",
    "    elif \"Infobox Animal\" in text:\r\n",
    "        Chars.append([e, \"Animal\"])\r\n",
    "    else:\r\n",
    "        Chars.append([e, \"Unknown\"])\r\n",
    "    \r\n"
   ]
  },
  {
   "cell_type": "code",
   "execution_count": 128,
   "metadata": {},
   "outputs": [
    {
     "name": "stdout",
     "output_type": "stream",
     "text": [
      "Empty DataFrame\n",
      "Columns: []\n",
      "Index: []\n"
     ]
    }
   ],
   "source": [
    "d"
   ]
  },
  {
   "cell_type": "code",
   "execution_count": null,
   "metadata": {},
   "outputs": [],
   "source": [
    "#"
   ]
  }
 ],
 "metadata": {
  "interpreter": {
   "hash": "c8199bc9c93b4262823634d25f4a32e04dd527ed93790c91211f95e4ad523798"
  },
  "kernelspec": {
   "display_name": "Python 3.9.1 64-bit ('venv': venv)",
   "name": "python3"
  },
  "language_info": {
   "codemirror_mode": {
    "name": "ipython",
    "version": 3
   },
   "file_extension": ".py",
   "mimetype": "text/x-python",
   "name": "python",
   "nbconvert_exporter": "python",
   "pygments_lexer": "ipython3",
   "version": "3.9.1"
  },
  "orig_nbformat": 4
 },
 "nbformat": 4,
 "nbformat_minor": 2
}