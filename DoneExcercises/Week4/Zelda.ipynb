{
 "cells": [
  {
   "cell_type": "code",
   "execution_count": 1,
   "metadata": {},
   "outputs": [],
   "source": [
    "import pandas as pd\r\n",
    "import requests\r\n",
    "import re\r\n",
    "from tqdm import tqdm\r\n",
    "import sys"
   ]
  },
  {
   "cell_type": "code",
   "execution_count": 2,
   "metadata": {},
   "outputs": [],
   "source": [
    "def create_url(baseurl, params):\r\n",
    "    return baseurl + \"&\".join([f\"{x}={y}\" for x, y in params.items()])"
   ]
  },
  {
   "cell_type": "code",
   "execution_count": 3,
   "metadata": {},
   "outputs": [],
   "source": []
  },
  {
   "cell_type": "code",
   "execution_count": 4,
   "metadata": {},
   "outputs": [],
   "source": [
    "baseurl = \" https://zelda.fandom.com/api.php?\"\r\n",
    "params = {\r\n",
    "    \"action\": \"query\",\r\n",
    "    \"format\": \"json\",\r\n",
    "    \"prop\": \"revisions\",\r\n",
    "    \"rvslots\": \"*\",\r\n",
    "    \"rvprop\": \"content\",\r\n",
    "    \"indexpageids\": True\r\n",
    "    }\r\n",
    "titles = [\r\n",
    "    \"Characters_in_Breath_of_the_Wild\", \r\n",
    "    \"Enemies_in_Breath_of_the_Wild\", \r\n",
    "    \"Bosses_in_Breath_of_the_Wild\"\r\n",
    "    ]"
   ]
  },
  {
   "cell_type": "code",
   "execution_count": 5,
   "metadata": {},
   "outputs": [],
   "source": [
    "# Extracting all links of format {{Term|BoTW|(here)|link}}\r\n",
    "\r\n",
    "extraction = []\r\n",
    "for title in titles:\r\n",
    "    new_params = params\r\n",
    "    new_params[\"titles\"] = title\r\n",
    "    url = create_url(baseurl, new_params)\r\n",
    "    \r\n",
    "    data = requests.get(url).json()\r\n",
    "    pid = data[\"query\"][\"pageids\"][0]\r\n",
    "    text = data[\"query\"][\"pages\"][pid][\"revisions\"][0][\"slots\"][\"main\"][\"*\"]\r\n",
    "    \r\n",
    "    if \"==Traps==\" in text:\r\n",
    "        text = text.split(\"==Traps==\")[0]\r\n",
    "\r\n",
    "    extraction.extend([x[0] for x in expr.findall(text)])"
   ]
  },
  {
   "cell_type": "code",
   "execution_count": 6,
   "metadata": {},
   "outputs": [],
   "source": [
    "# Sorting the extractions after whether they are traps, places, or characters.\r\n",
    "# First two gets removed\r\n",
    "\r\n",
    "Chars = []\r\n",
    "\r\n",
    "for e in tqdm(extraction):\r\n",
    "    new_params = params\r\n",
    "    new_params[\"titles\"] = e + \"%23Breath_of_the_Wild\"\r\n",
    "    url = create_url(baseurl, new_params)\r\n",
    "\r\n",
    "    data = requests.get(url).json()\r\n",
    "    pid = data[\"query\"][\"pageids\"][0]\r\n",
    "    text = data[\"query\"][\"pages\"][pid][\"revisions\"][0][\"slots\"][\"main\"][\"*\"]\r\n",
    "    \r\n",
    "    if \"Infobox Place\" in text:\r\n",
    "        continue\r\n",
    "    \r\n",
    "    with open(f\"txts/{e}.txt\", \"w\") as f:\r\n",
    "        f.write(str(text.encode(encoding=\"utf-8\", errors=\"xmlcharrefreplace\")))\r\n",
    "        \r\n",
    "    if \"Infobox Boss\" in text:\r\n",
    "        Chars.append([e, \"Boss\"])\r\n",
    "    elif \"Infobox Character\" in text:\r\n",
    "        Chars.append([e, \"Ally\"])\r\n",
    "    elif \"Infobox Enemy\" in text:\r\n",
    "        Chars.append([e, \"Enemey\"])\r\n",
    "    elif \"Infobox Animal\" in text:\r\n",
    "        Chars.append([e, \"Animal\"])\r\n",
    "    else:\r\n",
    "        Chars.append([e, \"Unknown\"])\r\n",
    "    \r\n"
   ]
  },
  {
   "cell_type": "code",
   "execution_count": 7,
   "metadata": {},
   "outputs": [
    {
     "ename": "NameError",
     "evalue": "name 'Chars' is not defined",
     "output_type": "error",
     "traceback": [
      "\u001b[1;31m---------------------------------------------------------------------------\u001b[0m",
      "\u001b[1;31mNameError\u001b[0m                                 Traceback (most recent call last)",
      "\u001b[1;32m~\\AppData\\Local\\Temp/ipykernel_21876/2474633056.py\u001b[0m in \u001b[0;36m<module>\u001b[1;34m\u001b[0m\n\u001b[1;32m----> 1\u001b[1;33m \u001b[0mdf\u001b[0m \u001b[1;33m=\u001b[0m \u001b[0mpd\u001b[0m\u001b[1;33m.\u001b[0m\u001b[0mDataFrame\u001b[0m\u001b[1;33m(\u001b[0m\u001b[0mChars\u001b[0m\u001b[1;33m)\u001b[0m\u001b[1;33m\u001b[0m\u001b[1;33m\u001b[0m\u001b[0m\n\u001b[0m\u001b[0;32m      2\u001b[0m \u001b[0mdf\u001b[0m \u001b[1;33m=\u001b[0m \u001b[0mdf\u001b[0m\u001b[1;33m[\u001b[0m\u001b[0mdf\u001b[0m\u001b[1;33m.\u001b[0m\u001b[0mRole\u001b[0m \u001b[1;33m!=\u001b[0m \u001b[1;34m\"Unknown\"\u001b[0m\u001b[1;33m]\u001b[0m\u001b[1;33m\u001b[0m\u001b[1;33m\u001b[0m\u001b[0m\n\u001b[0;32m      3\u001b[0m \u001b[0mdf\u001b[0m\u001b[1;33m.\u001b[0m\u001b[0mto_csv\u001b[0m\u001b[1;33m(\u001b[0m\u001b[1;34m\"ZeldaBotw.csv\"\u001b[0m\u001b[1;33m)\u001b[0m\u001b[1;33m\u001b[0m\u001b[1;33m\u001b[0m\u001b[0m\n",
      "\u001b[1;31mNameError\u001b[0m: name 'Chars' is not defined"
     ]
    }
   ],
   "source": [
    "df = pd.DataFrame(Chars)\r\n",
    "df = df[df.Role != \"Unknown\"]\r\n",
    "df.to_csv(\"ZeldaBotw.csv\")"
   ]
  },
  {
   "cell_type": "code",
   "execution_count": 8,
   "metadata": {},
   "outputs": [],
   "source": [
    "df = pd.read_csv(\"ZeldaBotw.csv\")"
   ]
  },
  {
   "cell_type": "code",
   "execution_count": 9,
   "metadata": {},
   "outputs": [],
   "source": [
    "gender_expr = re.compile(r\"gender ?= ?(\\w*)\")\r\n",
    "race_expr = re.compile(r\"(?:race|species) ?= ?(?:\\[\\[(.*?)\\]\\]|(?:\\{\\{Term\\|Series\\|Human\\|link\\}\\}<br>)?\\{\\{Term\\|BotW\\|(.*?)(?:\\|link)?\\}\\}|(?:\\n)?)\")\r\n",
    "\r\n",
    "genders = []\r\n",
    "races = []\r\n",
    "\r\n",
    "for i, name in enumerate(df.Name):\r\n",
    "    text = open(f\"txts/{name}.txt\", \"r\").read()\r\n",
    "    gender = gender_expr.findall(text)\r\n",
    "    gender = gender[0] if len(gender) > 0 else \"Unknown\"\r\n",
    "    genders.append(gender)\r\n",
    "\r\n",
    "    race = race_expr.findall(text)\r\n",
    "    if len(race) == 0:\r\n",
    "        race = \"Unknown\"\r\n",
    "    else:\r\n",
    "        race = race[0][0] if len(race[0][0]) > len(race[0][1]) else race[0][1]\r\n",
    "    races.append(race)"
   ]
  },
  {
   "cell_type": "code",
   "execution_count": 10,
   "metadata": {},
   "outputs": [
    {
     "name": "stdout",
     "output_type": "stream",
     "text": [
      "                  Name  Role     Race  Gender\n",
      "0               Baddek  Ally   Hylian    Male\n",
      "1               Bamboo  Ally    Horse        \n",
      "2                Banji  Ally   Hylian  Female\n",
      "3               Baumar  Ally   Hylian    Male\n",
      "4                Bayge  Ally    Goron    Male\n",
      "..                 ...   ...      ...     ...\n",
      "570  Waterblight Ganon  Boss                 \n",
      "571       Master Kohga  Boss  Sheikah    Male\n",
      "572    Monk Maz Koshia  Boss  Sheikah    Male\n",
      "573     Calamity Ganon  Boss             Male\n",
      "574   Dark Beast Ganon  Boss             Male\n",
      "\n",
      "[575 rows x 4 columns]\n"
     ]
    }
   ],
   "source": [
    "df[\"Race\"] = races\r\n",
    "df[\"Gender\"] = genders\r\n",
    "df.drop(\"Unnamed: 0\", axis=1, inplace=True)\r\n",
    "print(df)"
   ]
  },
  {
   "cell_type": "code",
   "execution_count": 11,
   "metadata": {},
   "outputs": [],
   "source": [
    "import networkx as nx\r\n",
    "\r\n",
    "G = nx.DiGraph()\r\n",
    "for _, (name, role, race, gender) in df.iterrows():\r\n",
    "    G.add_node(name, role=role, race=race, gender=gender)"
   ]
  },
  {
   "cell_type": "code",
   "execution_count": 12,
   "metadata": {},
   "outputs": [],
   "source": [
    "# Regex expressions\r\n",
    "dir_link = re.compile(r\"\\[\\[(.*?)(?:\\|.*?)?\\]\\]\")\r\n",
    "cur_link = re.compile(r\"\\{\\{(?:Term|Plural)\\|BotW\\|(.*?)(?:\\|.*?)?(?:Link?)\\}\\}\")\r\n",
    "quick_link = re.compile(r\"\\[\\[(.*?)(?:\\|.*?)?(?:\\|#Breath of the Wild)?\\]\\]\")\r\n",
    "\r\n",
    "for name in df.Name:\r\n",
    "    description = open(f\"./txts/{name}.txt\", \"r\").read()\r\n",
    "    links = []\r\n",
    "    links.extend(dir_link.findall(description))\r\n",
    "    links.extend(cur_link.findall(description))\r\n",
    "    for link in links:\r\n",
    "        if link in df.Name.values and link != name:\r\n",
    "            G.add_edge(name, link)"
   ]
  },
  {
   "cell_type": "code",
   "execution_count": 13,
   "metadata": {},
   "outputs": [],
   "source": [
    "# nx.draw(G, node_size=10)\r\n",
    "import matplotlib.pyplot as plt\r\n",
    "import seaborn as sns\r\n",
    "sns.set()\r\n",
    "\r\n",
    "for node in list(G.nodes()):\r\n",
    "    if G.degree(node) == 0:\r\n",
    "        G.remove_node(node)"
   ]
  },
  {
   "cell_type": "code",
   "execution_count": 14,
   "metadata": {},
   "outputs": [
    {
     "name": "stdout",
     "output_type": "stream",
     "text": [
      "Number of nodes: 394\n",
      "Number of links/edges: 861\n"
     ]
    },
    {
     "data": {
      "text/plain": [
       "<AxesSubplot:title={'center':'Role'}>"
      ]
     },
     "execution_count": 14,
     "metadata": {},
     "output_type": "execute_result"
    },
    {
     "data": {
      "image/png": "[encoded data removed]",
      "text/plain": [
       "<Figure size 1440x360 with 3 Axes>"
      ]
     },
     "metadata": {},
     "output_type": "display_data"
    }
   ],
   "source": [
    "print(f\"Number of nodes: {G.number_of_nodes()}\")\r\n",
    "print(f\"Number of links/edges: {G.number_of_edges()}\")\r\n",
    "\r\n",
    "fig, (ax1, ax2, ax3) = plt.subplots(1, 3, figsize=(20, 5))\r\n",
    "\r\n",
    "df.Race.value_counts().plot.bar(ax=ax1, title=\"Race\")\r\n",
    "df.Gender.value_counts().plot.bar(ax=ax2, title=\"Gender\")\r\n",
    "df.Role.value_counts().plot.bar(ax=ax3, title=\"Role\")"
   ]
  },
  {
   "cell_type": "code",
   "execution_count": null,
   "metadata": {},
   "outputs": [
    {
     "name": "stdout",
     "output_type": "stream",
     "text": [
      "Highest connected character: ('Link', 181)\n"
     ]
    }
   ],
   "source": [
    "print(f\"Highest connected character: {max(G.degree(), key=lambda x: x[1])}\")"
   ]
  }
 ],
 "metadata": {
  "interpreter": {
   "hash": "c8199bc9c93b4262823634d25f4a32e04dd527ed93790c91211f95e4ad523798"
  },
  "kernelspec": {
   "display_name": "Python 3.9.1 64-bit ('venv': venv)",
   "name": "python3"
  },
  "language_info": {
   "name": "python",
   "version": ""
  },
  "orig_nbformat": 4
 },
 "nbformat": 4,
 "nbformat_minor": 2
}