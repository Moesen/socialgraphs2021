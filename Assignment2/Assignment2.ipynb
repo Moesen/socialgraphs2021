{
 "cells": [
  {
   "cell_type": "markdown",
   "metadata": {},
   "source": [
    "# Social Graphs 2021 - Assignment 2\r\n",
    "## Quick disclaimer\r\n",
    "The assignment description could hint at not implementing some of the previous exercises, but just use the files already downloaded and processed. This seemed to make the exercises and explanations a little incoherrent, so we have included the code for the API-calls and other misc stuff. We have tried to collapse the cell blocks, so this is not annoying for the reader, but if they do appear, sorry for the inconvinience."
   ]
  },
  {
   "cell_type": "code",
   "execution_count": 3,
   "metadata": {},
   "outputs": [],
   "source": [
    "# Imports\r\n",
    "import matplotlib.pyplot as plt\r\n",
    "import matplotlib\r\n",
    "import pandas as pd\r\n",
    "import numpy as np\r\n",
    "\r\n",
    "import wordcloud\r\n",
    "import nltk\r\n",
    "import networkx as nx\r\n",
    "\r\n",
    "import re\r\n",
    "import json\r\n",
    "import urllib\r\n",
    "\r\n",
    "import seaborn as sns\r\n",
    "import os"
   ]
  },
  {
   "cell_type": "code",
   "execution_count": 116,
   "metadata": {},
   "outputs": [],
   "source": [
    "# Styles and data. If this cell block is not already hidden/minimized, feel free to do so, as it only contains the styles for the plots, \r\n",
    "# and the characters.csv in written form, as it allows for reruns of the code, if needed.\r\n",
    "DTU_COLORS_HEX = dict(\r\n",
    "    dtured      = \"#990000\",\r\n",
    "    blue        = \"#2F3EEA\",\r\n",
    "    brightgreen = \"#1FD082\",\r\n",
    "    navyblue    = \"#030F4F\",\r\n",
    "    yellow      = \"#F6D04D\",\r\n",
    "    orange      = \"#FC7634\",\r\n",
    "    pink        = \"#F7BBB1\",\r\n",
    "    grey        = \"#DADADA\",\r\n",
    "    red         = \"#E83F48\",\r\n",
    "    green       = \"#008835\",\r\n",
    "    purple      = \"#79238E\"\r\n",
    ")\r\n",
    "\r\n",
    "def hex_to_rgb(hex: str):\r\n",
    "    hex = hex.replace(\"#\", \"\")\r\n",
    "    return tuple(int(hex[i:i+2], 16) for i in (0, 2, 4))\r\n",
    "\r\n",
    "DTU_COLORS_RGB = [hex_to_rgb(x) for x in DTU_COLORS_HEX.values()]\r\n",
    "dtu_cmap = matplotlib.colors.LinearSegmentedColormap.from_list(\"dtu_colors\", DTU_COLORS_RGB, N=100)\r\n",
    "\r\n",
    "cmap = sns.color_palette(\"Spectral\", as_cmap=True)\r\n",
    "colors = list(DTU_COLORS_HEX.values())\r\n",
    "\r\n",
    "sns.set_palette(\"Spectral\")\r\n",
    "cmap = sns.color_palette(\"Spectral\", as_cmap=True)\r\n",
    "\r\n",
    "default = dict(\r\n",
    "    figsize     = (20, 5),\r\n",
    ")"
   ]
  },
  {
   "cell_type": "markdown",
   "metadata": {},
   "source": [
    "# 0. Building the network\r\n",
    "As this process is a two step of finding names, and then their pages, we have shuffled the explanation of strategy and regular expressions\r\n",
    "\r\n",
    "## Strategy for extracting hyperlinks from the wiki-pages\r\n",
    "### Downloading\r\n",
    "First we download the three wiki pages containing the ally, enemy and boss characters. From this we use a regular expression to find all character names.\r\n",
    "### Regex\r\n",
    "First the boss page has an edge case, where the location of the boss is included in the same format, as the name of the boss. To remove this, we use ```{{Small.*?''}}``` to find the locations and remove them.\r\n",
    "\r\n",
    "When these are removed we use ```({{Term\\|BotW\\|(.*?)\\|link[\\|]*.*?}})``` to find the names of each character. All names follow the same convention of `{{Term|BotW|NAME OF CHARACTER|link|MAYBE MORE STUFF}}` occasionally followed by further information. This is solved by using `*.*?` which lazily finds additional terms. `*?` makes sure, that this is only done until the following character `}` is found.\r\n",
    "\r\n",
    "## Strategy for finding gender and race\r\n",
    "As we already have the character pages, we do a regex expression for gender, and for race.\r\n",
    "\r\n",
    "* Race: `{{Infobox.*?\\|(?:race=|species=)\\s(.*?)(?:\\n|<ref).*?(?:\\|gender=\\s`**(.*?)**`(?:\\n|<ref)|).*?}}`. \r\n",
    "\r\n",
    "For each character page we use this expression. All metainformation, including the races, is contained in an Infobox, explaining the beginning and end of the expressions. We use capture groups to allow for or-statements signified by `(|)` the |-symbol, as this cannot be written outside of a capture group. As whether the keyword is `race` or `species` is not important `(?:)` is used, to make the capture group not return anything. The same convention is followed throughout the expression, to include different types of definitions. Lastly the small group `(.*?)` is used to find the race of the character. Characters might have multiple races, in which case only the first is chosen.\r\n",
    "\r\n",
    "* Gender: `.*(Male|Female).*`. \r\n",
    "\r\n",
    "Genders are only included inside of infoboxes, which we found in the previous expression. Using the extraction from the previous expression this expression is now used. This expression is only run for these infoboxes. The expression is only used on these, searching for males or females, where the `|`-symbol signifies an or-statement. For genders outside of male or female, the gender `unknown` is assigned to the character. \r\n",
    "\r\n",
    "From here we do an API-call using the character names to get each characters content. Then we use the regular the same set of regular expressions for each character extracting the links to other characters.\r\n",
    "\r\n",
    "## Strategy for extracting links to characters\r\n",
    "Curly and square bracket"
   ]
  },
  {
   "cell_type": "markdown",
   "metadata": {},
   "source": [
    "# 1. Network visualization and basic stats\r\n",
    "## Preliminary\r\n",
    "The code below finds the character links using the regex expressions previosly discussed, and extracts the giant component using networkx."
   ]
  },
  {
   "cell_type": "code",
   "execution_count": 43,
   "metadata": {},
   "outputs": [
    {
     "name": "stdout",
     "output_type": "stream",
     "text": [
      "Number of nodes in network: \t 520\n",
      "Number of links🔗: \t\t 1741\n",
      "Most connected in:\t Link\n",
      "\tin👈:\t391\n",
      "\tout👉:\t9\n",
      "Most connected out:\t Traysi\n",
      "\tin👈:\t2\n",
      "\tout👉:\t14\n",
      "Most connected overall:\t Link\n",
      "\tin👈:\t391\n",
      "\tout👉:\t9\n",
      "Most connected allies (name, in, out) ✌\n",
      "\tLink, 391, 9\n",
      "\tHylia, 67, 3\n",
      "\tPrincess Zelda, 32, 7\n",
      "\tRiju, 23, 5\n",
      "\tPurah, 17, 8\n",
      "Most connected enemies (name, in, out) 😈\n",
      "\tCalamity Ganon, 101, 8\n",
      "\tBokoblin, 20, 10\n",
      "\tLizalfos, 11, 13\n",
      "\tMoblin, 10, 12\n",
      "\tStalizalfos, 9, 12\n"
     ]
    }
   ],
   "source": [
    "df = pd.read_csv(\"Characters.csv\")\r\n",
    "\r\n",
    "import networkx as nx\r\n",
    "\r\n",
    "G = nx.DiGraph()\r\n",
    "for _, (name, role, race, gender) in df.iterrows():\r\n",
    "    G.add_node(name, role=role, race=race, gender=gender)\r\n",
    "\r\n",
    "# Expressions\r\n",
    "brackets_pattern = r'\\[\\[(.*?)(?:\\|.*?|\\#.*?)?\\]\\]'\r\n",
    "curly_pattern =    r'{{(?:Term|Plural)\\|.*?\\|(.*?)(?:\\|.*?)?}}'\r\n",
    "\r\n",
    "for name in df.Name:\r\n",
    "    description = open(f\"././Characters/{name}.txt\", \"r\", encoding=\"utf-8\").read()\r\n",
    "    links = []\r\n",
    "    links.extend(re.findall(brackets_pattern, description))\r\n",
    "    links.extend(re.findall(curly_pattern, description))\r\n",
    "    for link in links:\r\n",
    "        if link in df.Name.values and link != name:\r\n",
    "            G.add_edge(name, link)\r\n",
    "\r\n",
    "GCC = G.subgraph(max(nx.weakly_connected_components(G), key=len))\r\n",
    "\r\n",
    "print(f\"Number of nodes in network: \\t {GCC.number_of_nodes()}\")\r\n",
    "print(f\"Number of links🔗: \\t\\t {GCC.number_of_edges()}\")\r\n",
    "\r\n",
    "sorted_in  = sorted(GCC.nodes, key=GCC.in_degree, reverse=True)\r\n",
    "sorted_out = sorted(GCC.nodes, key=GCC.out_degree, reverse=True)\r\n",
    "sorted_tot = sorted(GCC.nodes, key=GCC.degree, reverse=True)\r\n",
    "\r\n",
    "print(f\"Most connected in:\\t {sorted_in[0]}\\n\\tin👈:\\t{GCC.in_degree(sorted_in[0])}\\n\\tout👉:\\t{GCC.out_degree(sorted_in[0])}\")\r\n",
    "print(f\"Most connected out:\\t {sorted_out[0]}\\n\\tin👈:\\t{GCC.in_degree(sorted_out[0])}\\n\\tout👉:\\t{GCC.out_degree(sorted_out[0])}\")\r\n",
    "print(f\"Most connected overall:\\t {sorted_tot[0]}\\n\\tin👈:\\t{GCC.in_degree(sorted_tot[0])}\\n\\tout👉:\\t{GCC.out_degree(sorted_tot[0])}\")\r\n",
    "\r\n",
    "allies = df[df.Role==\"Ally\"].Name.to_list()\r\n",
    "enemies = df[df.Role.isin([\"Enemy\", \"Boss\"])].Name.to_list()\r\n",
    "\r\n",
    "sorted_allies = list(filter(lambda x: x in allies, sorted_tot))\r\n",
    "sorted_enemies = list(filter(lambda x: x in enemies, sorted_tot))\r\n",
    "\r\n",
    "# Seems a bit long to show same result as above for all allies and enemies,\r\n",
    "# so here we only look at total degree\r\n",
    "print(\"Most connected allies (name, in, out) ✌\")\r\n",
    "print(\"\\t\"+\"\\n\\t\".join([\", \".join([str(x), str(GCC.in_degree(x)), str(GCC.out_degree(x))]) for x in sorted_allies[:5]]))\r\n",
    "print(\"Most connected enemies (name, in, out) 😈\")\r\n",
    "print(\"\\t\"+\"\\n\\t\".join([\", \".join([str(x), str(GCC.in_degree(x)), str(GCC.out_degree(x))]) for x in sorted_enemies[:5]]))\r\n"
   ]
  },
  {
   "cell_type": "markdown",
   "metadata": {},
   "source": [
    "## Stats\r\n",
    "Number of nodes, and links can be seen above.\r\n",
    "\r\n",
    "## Most connected character.\r\n",
    "Link being the most overall connected character is not suprising, as he is the main character of the franchise. It did however suprise us a bit, that he is not the most out-wards connected character, and Traysi is instead. After reading about her, it makes sense, as she has a quest where Link has to talk to different people, and all of these people are all linked on her page, which is of course not mentioned on Links page as it is quite a small quest, but all of it is mentioned on her page, as that is most of her role in the game.\r\n",
    "\r\n",
    "## Mostly connected allies and enemies\r\n",
    "For the allies it is more or less what was expected, as all the characters that appear in the top 5 are main characters. For the enemies its a bit confusing, as all other characters than Calamity Ganon are not characters, but instead generic enemies. It does however make sense, that they are in the top 5, as they are commonly occurring."
   ]
  },
  {
   "cell_type": "code",
   "execution_count": 117,
   "metadata": {},
   "outputs": [
    {
     "data": {
      "image/png": "[encoded data removed]",
      "text/plain": [
       "<Figure size 1440x360 with 2 Axes>"
      ]
     },
     "metadata": {},
     "output_type": "display_data"
    }
   ],
   "source": [
    "fig, (in_ax, out_ax) = plt.subplots(1, 2, **default)\r\n",
    "in_degrees = dict(GCC.in_degree()).values()\r\n",
    "out_degrees = dict(GCC.out_degree()).values()\r\n",
    "\r\n",
    "counts, bins, bars = in_ax.hist(in_degrees)\r\n",
    "in_ax.set_title(\"In degree distribution\")\r\n",
    "in_ax.set_xlabel(\"Degrees\")\r\n",
    "in_ax.set_ylabel(\"Count\")\r\n",
    "\r\n",
    "for c, b in zip(counts, bins):\r\n",
    "    if c > 0: in_ax.text(b+10, c+5, f\"{c:.0f}\")\r\n",
    "\r\n",
    "\r\n",
    "counts, bins, bars = out_ax.hist(out_degrees)\r\n",
    "out_ax.set_title(\"Out degree distribution\")\r\n",
    "out_ax.set_xlabel(\"Degrees\")\r\n",
    "out_ax.set_ylabel(\"Count\")\r\n",
    "\r\n",
    "for c, b in zip(counts, bins):\r\n",
    "    if c > 0: out_ax.text(b+.4, c+2, f\"{c:.0f}\")"
   ]
  }
 ],
 "metadata": {
  "interpreter": {
   "hash": "c8199bc9c93b4262823634d25f4a32e04dd527ed93790c91211f95e4ad523798"
  },
  "kernelspec": {
   "display_name": "Python 3.9.1 64-bit ('venv': venv)",
   "name": "python3"
  },
  "language_info": {
   "name": "python",
   "version": ""
  },
  "orig_nbformat": 4
 },
 "nbformat": 4,
 "nbformat_minor": 2
}