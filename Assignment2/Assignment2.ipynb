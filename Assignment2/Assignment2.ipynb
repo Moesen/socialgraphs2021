{
 "cells": [
  {
   "cell_type": "markdown",
   "metadata": {},
   "source": [
    "# Social Graphs 2021 - Assignment 2\r\n",
    "## Quick disclaimer\r\n",
    "The assignment description could hint at not implementing some of the previous exercises, but just use the files already downloaded and processed. This seemed to make the exercises and explanations a little incoherrent, so we have included the code for the API-calls and other misc stuff. We have tried to collapse the cell blocks, so this is not annoying for the reader, but if they do appear, sorry for the inconvinience."
   ]
  },
  {
   "cell_type": "code",
   "execution_count": 1,
   "metadata": {},
   "outputs": [],
   "source": [
    "# Imports\r\n",
    "import matplotlib.pyplot as plt\r\n",
    "import pandas as pd\r\n",
    "import numpy as np\r\n",
    "\r\n",
    "import wordcloud\r\n",
    "import nltk\r\n",
    "import networkx as nx\r\n",
    "\r\n",
    "import re\r\n",
    "import json\r\n",
    "import urllib\r\n",
    "\r\n",
    "import os"
   ]
  },
  {
   "cell_type": "code",
   "execution_count": 2,
   "metadata": {},
   "outputs": [],
   "source": [
    "# Styles and data. If this cell block is not already hidden/minimized, feel free to do so, as it only contains the styles for the plots, \r\n",
    "# and the characters.csv in written form, as it allows for reruns of the code, if needed.\r\n",
    "DTU_COLORS = dict(\r\n",
    "    dtured      = \"#990000\",\r\n",
    "    blue        = \"#2F3EEA\",\r\n",
    "    brightgreen = \"#1FD082\",\r\n",
    "    navyblue    = \"#030F4F\"\r\n",
    ")"
   ]
  },
  {
   "cell_type": "markdown",
   "metadata": {},
   "source": [
    "# 0. Building the network\r\n",
    "As this process is a two step of finding names, and then their pages, we have shuffled the explanation of strategy and regular expressions\r\n",
    "\r\n",
    "## Strategy for extracting hyperlinks from the wiki-pages\r\n",
    "### Downloading\r\n",
    "First we download the three wiki pages containing the ally, enemy and boss characters. From this we use a regular expression to find all character names.\r\n",
    "### Regex\r\n",
    "First the boss page has an edge case, where the location of the boss is included in the same format, as the name of the boss. To remove this, we use ```{{Small.*?''}}``` to find the locations and remove them.\r\n",
    "\r\n",
    "When these are removed we use ```({{Term\\|BotW\\|(.*?)\\|link[\\|]*.*?}})``` to find the names of each character. All names follow the same convention of `{{Term|BotW|NAME OF CHARACTER|link|MAYBE MORE STUFF}}` occasionally followed by further information. This is solved by using `*.*?` which lazily finds additional terms. `*?` makes sure, that this is only done until the following character `}` is found.\r\n",
    "\r\n",
    "## Strategy for finding gender and race\r\n",
    "As we already have the character pages, we do a regex expression for gender, and for race.\r\n",
    "\r\n",
    "* Race: `{{Infobox.*?\\|(?:race=|species=)\\s(.*?)(?:\\n|<ref).*?(?:\\|gender=\\s`**(.*?)**`(?:\\n|<ref)|).*?}}`. \r\n",
    "\r\n",
    "For each character page we use this expression. All metainformation, including the races, is contained in an Infobox, explaining the beginning and end of the expressions. We use capture groups to allow for or-statements signified by `(|)` the |-symbol, as this cannot be written outside of a capture group. As whether the keyword is `race` or `species` is not important `(?:)` is used, to make the capture group not return anything. The same convention is followed throughout the expression, to include different types of definitions. Lastly the small group `(.*?)` is used to find the race of the character. Characters might have multiple races, in which case only the first is chosen.\r\n",
    "\r\n",
    "* Gender: `.*(Male|Female).*`. \r\n",
    "\r\n",
    "Genders are only included inside of infoboxes, which we found in the previous expression. Using the extraction from the previous expression this expression is now used. This expression is only run for these infoboxes. The expression is only used on these, searching for males or females, where the `|`-symbol signifies an or-statement. For genders outside of male or female, the gender `unknown` is assigned to the character. \r\n",
    "\r\n",
    "From here we do an API-call using the character names to get each characters content. Then we use the regular the same set of regular expressions for each character extracting the links to other characters.\r\n",
    "\r\n",
    "## "
   ]
  },
  {
   "cell_type": "markdown",
   "metadata": {},
   "source": [
    "# Regex strategy\r\n",
    "We do two different regex calls. First we find the characters in the \r\n",
    "\r\n",
    "The main regular expression is to find every link o a character. We know they have the shape `{{Term|BotW|name of character|link|maybe more stuff}}`. Unfortionately in the texts locations follow the same pattern. This is first removed with the expression `{{Small.*?'}}`, to filter out the locations."
   ]
  }
 ],
 "metadata": {
  "interpreter": {
   "hash": "c8199bc9c93b4262823634d25f4a32e04dd527ed93790c91211f95e4ad523798"
  },
  "kernelspec": {
   "display_name": "Python 3.9.1 64-bit ('venv': venv)",
   "name": "python3"
  },
  "language_info": {
   "codemirror_mode": {
    "name": "ipython",
    "version": 3
   },
   "file_extension": ".py",
   "mimetype": "text/x-python",
   "name": "python",
   "nbconvert_exporter": "python",
   "pygments_lexer": "ipython3",
   "version": "3.9.1"
  },
  "orig_nbformat": 4
 },
 "nbformat": 4,
 "nbformat_minor": 2
}