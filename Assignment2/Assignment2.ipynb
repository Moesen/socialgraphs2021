{
 "cells": [
  {
   "cell_type": "markdown",
   "metadata": {},
   "source": [
    "# Social Graphs 2021 - Assignment 2\r\n",
    "## Quick disclaimer\r\n",
    "The assignment description could hint at not implementing some of the previous exercises, but just use the files already downloaded and processed. This seemed to make the exercises and explanations a little incoherrent, so we have included the code for the API-calls and other misc stuff. We have tried to collapse the cell blocks, so this is not annoying for the reader, but if they do appear, sorry for the inconvinience."
   ]
  },
  {
   "cell_type": "code",
   "execution_count": 1,
   "metadata": {},
   "outputs": [],
   "source": [
    "# Imports\r\n",
    "import matplotlib.pyplot as plt\r\n",
    "import pandas as pd\r\n",
    "import numpy as np\r\n",
    "\r\n",
    "import wordcloud\r\n",
    "import nltk\r\n",
    "import networkx as nx\r\n",
    "\r\n",
    "import re\r\n",
    "import json\r\n",
    "import urllib\r\n",
    "\r\n",
    "import os"
   ]
  },
  {
   "cell_type": "code",
   "execution_count": 2,
   "metadata": {},
   "outputs": [],
   "source": [
    "# Styles and data. If this cell block is not already hidden/minimized, feel free to do so, as it only contains the styles for the plots, \r\n",
    "# and the characters.csv in written form, as it allows for reruns of the code, if needed.\r\n",
    "DTU_COLORS = dict(\r\n",
    "    dtured      = \"#990000\",\r\n",
    "    blue        = \"#2F3EEA\",\r\n",
    "    brightgreen = \"#1FD082\",\r\n",
    "    navyblue    = \"#030F4F\",\r\n",
    "    \r\n",
    ")"
   ]
  },
  {
   "cell_type": "markdown",
   "metadata": {},
   "source": [
    "# 0. Building the network\r\n",
    "## Strategy for extracting hyperlinks from the wiki-pages\r\n",
    "The strategy for extracting the hyperlinks is to make 3 webcalls for allies, enemies and bosses. For enemies as a single case, we remove the traps part of the html-string, as it is not included. From here we use regex expressions explained in the next part to extract each character name, which we will use to directly query the API, for each of the characters."
   ]
  },
  {
   "cell_type": "code",
   "execution_count": 3,
   "metadata": {},
   "outputs": [],
   "source": [
    "# Gets the json format of the 3 pages with characters (allies, enemies and bosses)\r\n",
    "def get_json(title):\r\n",
    "    baseurl = \"https://zelda.fandom.com/api.php?\"\r\n",
    "    action = \"action=query\"\r\n",
    "    title = \"titles={}\".format(title)\r\n",
    "    content = \"prop=revisions&rvprop=content&rvslots=*\"\r\n",
    "    dataformat =\"format=json\"\r\n",
    "\r\n",
    "    query = \"{}{}&{}&{}&{}\".format(baseurl, action, content, title, dataformat)\r\n",
    "\r\n",
    "    wikiresponse = urllib.request.urlopen(query)\r\n",
    "    wikidata = wikiresponse.read()\r\n",
    "    wikitext = wikidata.decode('utf-8')\r\n",
    "\r\n",
    "    return json.loads(wikitext)\r\n",
    "\r\n",
    "# Extracts the content of the pages, yielding the title of the page, and the html-string \r\n",
    "# with character names.\r\n",
    "def displayWiki(wiki):\r\n",
    "    code = str(list(wiki[\"query\"][\"pages\"].keys())[0])\r\n",
    "    title = wiki[\"query\"][\"pages\"][code][\"title\"]\r\n",
    "    content = wiki[\"query\"][\"pages\"][code][\"revisions\"][0][\"slots\"][\"main\"][\"*\"]\r\n",
    "    return title, content\r\n",
    "\r\n",
    "allies_json = get_json(\"Characters_in_Breath_of_the_Wild\")\r\n",
    "enemies_json = get_json(\"Enemies_in_Breath_of_the_Wild\")\r\n",
    "bosses_json = get_json(\"Bosses_in_Breath_of_the_Wild\")\r\n",
    "\r\n",
    "allies_title, allies_content = displayWiki(allies_json)\r\n",
    "enemies_title, enemies_content = displayWiki(enemies_json)\r\n",
    "bosses_title, bosses_content = displayWiki(bosses_json)\r\n",
    "enemies_content = enemies_content.split(\"Traps\")[0]"
   ]
  },
  {
   "cell_type": "markdown",
   "metadata": {},
   "source": [
    "# Regex strategy\r\n",
    "We do two different regex calls. First we find the characters in the \r\n",
    "\r\n",
    "The main regular expression is to find every link o a character. We know they have the shape `{{Term|BotW|name of character|link|maybe more stuff}}`. Unfortionately in the texts locations follow the same pattern. This is first removed with the expression `{{Small.*?'}}`, to filter out the locations."
   ]
  },
  {
   "cell_type": "code",
   "execution_count": 4,
   "metadata": {},
   "outputs": [],
   "source": [
    "find_expr = r\"{{Term\\|BotW\\|(.*?)\\|link[\\|]*.*?}}\"\r\n",
    "delete_locations = r\"{{Small.*?'}}\"\r\n",
    "\r\n",
    "bosses_content = re.sub(delete_locations, \"\", bosses_content)\r\n",
    "allies = re.findall(find_expr, allies_content)\r\n",
    "enemies = re.findall(find_expr, enemies_content)\r\n",
    "bosses = re.findall(find_expr, bosses_content)"
   ]
  }
 ],
 "metadata": {
  "interpreter": {
   "hash": "c8199bc9c93b4262823634d25f4a32e04dd527ed93790c91211f95e4ad523798"
  },
  "kernelspec": {
   "display_name": "Python 3.9.1 64-bit ('venv': venv)",
   "name": "python3"
  },
  "language_info": {
   "codemirror_mode": {
    "name": "ipython",
    "version": 3
   },
   "file_extension": ".py",
   "mimetype": "text/x-python",
   "name": "python",
   "nbconvert_exporter": "python",
   "pygments_lexer": "ipython3",
   "version": "3.9.1"
  },
  "orig_nbformat": 4
 },
 "nbformat": 4,
 "nbformat_minor": 2
}