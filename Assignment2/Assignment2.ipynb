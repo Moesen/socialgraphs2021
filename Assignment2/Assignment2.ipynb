{
 "cells": [
  {
   "cell_type": "markdown",
   "metadata": {},
   "source": [
    "# Social Graphs 2021 - Assignment 2 "
   ]
  },
  {
   "cell_type": "code",
   "execution_count": null,
   "metadata": {},
   "outputs": [],
   "source": [
    "# Styles and data. If this cell block is not already hidden/minimized, feel free to do so, as it only contains the styles for the plots, \r\n",
    "# and the characters.csv in written form, as it allows for reruns of the code, if needed."
   ]
  },
  {
   "cell_type": "code",
   "execution_count": 1,
   "metadata": {},
   "outputs": [],
   "source": [
    "# Imports\r\n",
    "import matplotlib.pyplot as plt\r\n",
    "import pandas as pd\r\n",
    "import numpy as np\r\n",
    "\r\n",
    "import wordcloud\r\n",
    "import nltk\r\n",
    "import networkx as nx\r\n",
    "\r\n",
    "import re\r\n",
    "import urllib\r\n",
    "import requests\r\n",
    "\r\n",
    "import os"
   ]
  }
 ],
 "metadata": {
  "interpreter": {
   "hash": "c8199bc9c93b4262823634d25f4a32e04dd527ed93790c91211f95e4ad523798"
  },
  "kernelspec": {
   "display_name": "Python 3.9.1 64-bit ('venv': venv)",
   "name": "python3"
  },
  "language_info": {
   "codemirror_mode": {
    "name": "ipython",
    "version": 3
   },
   "file_extension": ".py",
   "mimetype": "text/x-python",
   "name": "python",
   "nbconvert_exporter": "python",
   "pygments_lexer": "ipython3",
   "version": "3.9.1"
  },
  "orig_nbformat": 4
 },
 "nbformat": 4,
 "nbformat_minor": 2
}