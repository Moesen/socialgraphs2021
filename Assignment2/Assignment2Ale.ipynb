{
 "cells": [
  {
   "cell_type": "markdown",
   "metadata": {},
   "source": [
    "# Social Graphs 2021 - Assignment 2\n",
    "## Quick disclaimer\n",
    "The assignment description could hint at not implementing some of the previous exercises, but just use the files already downloaded and processed. This seemed to make the exercises and explanations a little incoherrent, so we have included the code for the API-calls and other misc stuff. We have tried to collapse the cell blocks, so this is not annoying for the reader, but if they do appear, sorry for the inconvinience."
   ]
  },
  {
   "cell_type": "code",
   "execution_count": 1,
   "metadata": {},
   "outputs": [],
   "source": [
    "# Imports\n",
    "import matplotlib.pyplot as plt\n",
    "import matplotlib\n",
    "import pandas as pd\n",
    "import numpy as np\n",
    "\n",
    "import wordcloud\n",
    "import nltk\n",
    "import networkx as nx\n",
    "\n",
    "import re\n",
    "import json\n",
    "import urllib\n",
    "\n",
    "import seaborn as sns\n",
    "import os"
   ]
  },
  {
   "cell_type": "code",
   "execution_count": 2,
   "metadata": {},
   "outputs": [],
   "source": [
    "# Styles and data. If this cell block is not already hidden/minimized, feel free to do so, as it only contains the styles for the plots, \n",
    "# and the characters.csv in written form, as it allows for reruns of the code, if needed.\n",
    "DTU_COLORS_HEX = dict(\n",
    "    dtured      = \"#990000\",\n",
    "    blue        = \"#2F3EEA\",\n",
    "    brightgreen = \"#1FD082\",\n",
    "    navyblue    = \"#030F4F\",\n",
    "    yellow      = \"#F6D04D\",\n",
    "    orange      = \"#FC7634\",\n",
    "    pink        = \"#F7BBB1\",\n",
    "    grey        = \"#DADADA\",\n",
    "    red         = \"#E83F48\",\n",
    "    green       = \"#008835\",\n",
    "    purple      = \"#79238E\"\n",
    ")\n",
    "\n",
    "def hex_to_rgb(hex: str):\n",
    "    hex = hex.replace(\"#\", \"\")\n",
    "    return tuple(int(hex[i:i+2], 16) for i in (0, 2, 4))\n",
    "\n",
    "DTU_COLORS_RGB = [hex_to_rgb(x) for x in DTU_COLORS_HEX.values()]\n",
    "dtu_cmap = matplotlib.colors.LinearSegmentedColormap.from_list(\"dtu_colors\", DTU_COLORS_RGB, N=100)\n",
    "\n",
    "cmap = sns.color_palette(\"Spectral\", as_cmap=True)\n",
    "colors = list(DTU_COLORS_HEX.values())\n",
    "\n",
    "sns.set_palette(\"Spectral\")\n",
    "\n",
    "\n",
    "default = dict(\n",
    "    figsize     = (20, 5),\n",
    ")"
   ]
  },
  {
   "cell_type": "markdown",
   "metadata": {},
   "source": [
    "# 0. Building the network\n",
    "As this process is a two step of finding names, and then their pages, we have shuffled the explanation of strategy and regular expressions\n",
    "\n",
    "## Strategy for extracting hyperlinks from the wiki-pages\n",
    "### Downloading\n",
    "First we download the three wiki pages containing the ally, enemy and boss characters. From this we use a regular expression to find all character names.\n",
    "### Regex\n",
    "First the boss page has an edge case, where the location of the boss is included in the same format, as the name of the boss. To remove this, we use ```{{Small.*?''}}``` to find the locations and remove them.\n",
    "\n",
    "When these are removed we use ```({{Term\\|BotW\\|(.*?)\\|link[\\|]*.*?}})``` to find the names of each character. All names follow the same convention of `{{Term|BotW|NAME OF CHARACTER|link|MAYBE MORE STUFF}}` occasionally followed by further information. This is solved by using `*.*?` which lazily finds additional terms. `*?` makes sure, that this is only done until the following character `}` is found.\n",
    "\n",
    "## Strategy for finding gender and race\n",
    "As we already have the character pages, we do a regex expression for gender, and for race.\n",
    "\n",
    "* Race: `{{Infobox.*?\\|(?:race=|species=)\\s(.*?)(?:\\n|<ref).*?(?:\\|gender=\\s`**(.*?)**`(?:\\n|<ref)|).*?}}`. \n",
    "\n",
    "For each character page we use this expression. All metainformation, including the races, is contained in an Infobox, explaining the beginning and end of the expressions. We use capture groups to allow for or-statements signified by `(|)` the |-symbol, as this cannot be written outside of a capture group. As whether the keyword is `race` or `species` is not important `(?:)` is used, to make the capture group not return anything. The same convention is followed throughout the expression, to include different types of definitions. Lastly the small group `(.*?)` is used to find the race of the character. Characters might have multiple races, in which case only the first is chosen.\n",
    "\n",
    "* Gender: `.*(Male|Female).*`. \n",
    "\n",
    "Genders are only included inside of infoboxes, which we found in the previous expression. Using the extraction from the previous expression this expression is now used. This expression is only run for these infoboxes. The expression is only used on these, searching for males or females, where the `|`-symbol signifies an or-statement. For genders outside of male or female, the gender `unknown` is assigned to the character. \n",
    "\n",
    "From here we do an API-call using the character names to get each characters content. Then we use the regular the same set of regular expressions for each character extracting the links to other characters.\n",
    "\n",
    "## Strategy for extracting links to characters\n",
    "Curly and square bracket"
   ]
  },
  {
   "cell_type": "markdown",
   "metadata": {},
   "source": [
    "# 1. Network visualization and basic stats\n",
    "## Preliminary\n",
    "The code below finds the character links using the regex expressions previosly discussed, and extracts the giant component using networkx."
   ]
  },
  {
   "cell_type": "code",
   "execution_count": 3,
   "metadata": {},
   "outputs": [
    {
     "name": "stdout",
     "output_type": "stream",
     "text": [
      "Number of nodes in network: \t 520\n",
      "Number of links🔗: \t\t 1741\n",
      "Most connected in:\t Link\n",
      "\tin👈:\t391\n",
      "\tout👉:\t9\n",
      "Most connected out:\t Traysi\n",
      "\tin👈:\t2\n",
      "\tout👉:\t14\n",
      "Most connected overall:\t Link\n",
      "\tin👈:\t391\n",
      "\tout👉:\t9\n",
      "Most connected allies (name, in, out) ✌\n",
      "\tLink, 391, 9\n",
      "\tHylia, 67, 3\n",
      "\tPrincess Zelda, 32, 7\n",
      "\tRiju, 23, 5\n",
      "\tPurah, 17, 8\n",
      "Most connected enemies (name, in, out) 😈\n",
      "\tCalamity Ganon, 101, 8\n",
      "\tBokoblin, 20, 10\n",
      "\tLizalfos, 11, 13\n",
      "\tMoblin, 10, 12\n",
      "\tStalizalfos, 9, 12\n"
     ]
    }
   ],
   "source": [
    "df = pd.read_csv(\"Characters.csv\")\n",
    "\n",
    "import networkx as nx\n",
    "\n",
    "G = nx.DiGraph()\n",
    "for _, (name, role, race, gender) in df.iterrows():\n",
    "    G.add_node(name, role=role, race=race, gender=gender)\n",
    "\n",
    "# Expressions\n",
    "brackets_pattern = r'\\[\\[(.*?)(?:\\|.*?|\\#.*?)?\\]\\]'\n",
    "curly_pattern =    r'{{(?:Term|Plural)\\|.*?\\|(.*?)(?:\\|.*?)?}}'\n",
    "\n",
    "for name in df.Name:\n",
    "    description = open(f\"././Characters/{name}.txt\", \"r\", encoding=\"utf-8\").read()\n",
    "    links = []\n",
    "    links.extend(re.findall(brackets_pattern, description))\n",
    "    links.extend(re.findall(curly_pattern, description))\n",
    "    for link in links:\n",
    "        if link in df.Name.values and link != name:\n",
    "            G.add_edge(name, link)\n",
    "\n",
    "GCC = G.subgraph(max(nx.weakly_connected_components(G), key=len))\n",
    "\n",
    "print(f\"Number of nodes in network: \\t {GCC.number_of_nodes()}\")\n",
    "print(f\"Number of links🔗: \\t\\t {GCC.number_of_edges()}\")\n",
    "\n",
    "sorted_in  = sorted(GCC.nodes, key=GCC.in_degree, reverse=True)\n",
    "sorted_out = sorted(GCC.nodes, key=GCC.out_degree, reverse=True)\n",
    "sorted_tot = sorted(GCC.nodes, key=GCC.degree, reverse=True)\n",
    "\n",
    "print(f\"Most connected in:\\t {sorted_in[0]}\\n\\tin👈:\\t{GCC.in_degree(sorted_in[0])}\\n\\tout👉:\\t{GCC.out_degree(sorted_in[0])}\")\n",
    "print(f\"Most connected out:\\t {sorted_out[0]}\\n\\tin👈:\\t{GCC.in_degree(sorted_out[0])}\\n\\tout👉:\\t{GCC.out_degree(sorted_out[0])}\")\n",
    "print(f\"Most connected overall:\\t {sorted_tot[0]}\\n\\tin👈:\\t{GCC.in_degree(sorted_tot[0])}\\n\\tout👉:\\t{GCC.out_degree(sorted_tot[0])}\")\n",
    "\n",
    "allies = df[df.Role==\"Ally\"].Name.to_list()\n",
    "enemies = df[df.Role.isin([\"Enemy\", \"Boss\"])].Name.to_list()\n",
    "\n",
    "sorted_allies = list(filter(lambda x: x in allies, sorted_tot))\n",
    "sorted_enemies = list(filter(lambda x: x in enemies, sorted_tot))\n",
    "\n",
    "# Seems a bit long to show same result as above for all allies and enemies,\n",
    "# so here we only look at total degree\n",
    "print(\"Most connected allies (name, in, out) ✌\")\n",
    "print(\"\\t\"+\"\\n\\t\".join([\", \".join([str(x), str(GCC.in_degree(x)), str(GCC.out_degree(x))]) for x in sorted_allies[:5]]))\n",
    "print(\"Most connected enemies (name, in, out) 😈\")\n",
    "print(\"\\t\"+\"\\n\\t\".join([\", \".join([str(x), str(GCC.in_degree(x)), str(GCC.out_degree(x))]) for x in sorted_enemies[:5]]))\n"
   ]
  },
  {
   "cell_type": "markdown",
   "metadata": {},
   "source": [
    "## Stats\n",
    "Number of nodes, and links can be seen above.\n",
    "\n",
    "## Most connected character.\n",
    "Link being the most overall connected character is not suprising, as he is the main character of the franchise. It did however suprise us a bit, that he is not the most out-wards connected character, and Traysi is instead. After reading about her, it makes sense, as she has a quest where Link has to talk to different people, and all of these people are all linked on her page, which is of course not mentioned on Links page as it is quite a small quest, but all of it is mentioned on her page, as that is most of her role in the game.\n",
    "\n",
    "## Mostly connected allies and enemies\n",
    "For the allies it is more or less what was expected, as all the characters that appear in the top 5 are main characters. For the enemies its a bit confusing, as all other characters than Calamity Ganon are not characters, but instead generic enemies. It does however make sense, that they are in the top 5, as they are commonly occurring."
   ]
  },
  {
   "cell_type": "code",
   "execution_count": 17,
   "metadata": {},
   "outputs": [
    {
     "data": {
      "image/png": "[encoded data removed]",
      "text/plain": [
       "<Figure size 1440x360 with 2 Axes>"
      ]
     },
     "metadata": {
      "needs_background": "light"
     },
     "output_type": "display_data"
    }
   ],
   "source": [
    "fig, (in_ax, out_ax) = plt.subplots(1, 2, **default)\n",
    "in_degrees = dict(GCC.in_degree()).values()\n",
    "out_degrees = dict(GCC.out_degree()).values()\n",
    "\n",
    "counts, bins, bars = in_ax.hist(in_degrees, bins=80)\n",
    "in_ax.set_title(\"In degree distribution\")\n",
    "in_ax.set_xlabel(\"Degrees\")\n",
    "in_ax.set_ylabel(\"Count\")\n",
    "in_ax.set_xticks(np.arange(0, 400, step=20))\n",
    "\n",
    "for c, b in zip(counts, bins):\n",
    "    if c > 0: in_ax.text(b, c+5, f\"{c:.0f}\")\n",
    "\n",
    "\n",
    "counts, bins, bars = out_ax.hist(out_degrees)\n",
    "out_ax.set_title(\"Out degree distribution\")\n",
    "out_ax.set_xlabel(\"Degrees\")\n",
    "out_ax.set_ylabel(\"Count\")\n",
    "\n",
    "for c, b in zip(counts, bins):\n",
    "    if c > 0: out_ax.text(b+.4, c+2, f\"{c:.0f}\")"
   ]
  },
  {
   "cell_type": "markdown",
   "metadata": {},
   "source": [
    "## In-degree and out-degree distributions \n",
    "\n",
    "The first apparent difference that one can see is that for the in-degree distribution, there is one big outielr that skews the plot a lot (Link). To fully explain the differences, it's necessary to use more bins in the in degree distribution plot.\n",
    "\n",
    "Once that is done, it is clear that most characters have an in degree smaller than 5. That does make sense, because most secondary characters do not have external references in other character wikis, only the main characters. The Link outlier makes sense too, as is the main characters, and most wiki pages make reference to him.\n",
    "\n",
    "On the other hand, the out degree is more spread, without outliers. Most characters do make a few references in their wiki to other characters, and only a small percentage of the have a lot of out degree links."
   ]
  }
 ],
 "metadata": {
  "interpreter": {
   "hash": "c8199bc9c93b4262823634d25f4a32e04dd527ed93790c91211f95e4ad523798"
  },
  "kernelspec": {
   "display_name": "Python 3 (ipykernel)",
   "language": "python",
   "name": "python3"
  },
  "language_info": {
   "codemirror_mode": {
    "name": "ipython",
    "version": 3
   },
   "file_extension": ".py",
   "mimetype": "text/x-python",
   "name": "python",
   "nbconvert_exporter": "python",
   "pygments_lexer": "ipython3",
   "version": "3.9.7"
  }
 },
 "nbformat": 4,
 "nbformat_minor": 2
}
